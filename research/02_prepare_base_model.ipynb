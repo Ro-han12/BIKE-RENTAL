{
 "cells": [
  {
   "cell_type": "code",
   "execution_count": 1,
   "metadata": {},
   "outputs": [],
   "source": [
    "import os"
   ]
  },
  {
   "cell_type": "code",
   "execution_count": 2,
   "metadata": {},
   "outputs": [
    {
     "data": {
      "text/plain": [
       "'/Users/rohansridhar/Desktop/BIKE-RENTAL/research'"
      ]
     },
     "execution_count": 2,
     "metadata": {},
     "output_type": "execute_result"
    }
   ],
   "source": [
    "%pwd"
   ]
  },
  {
   "cell_type": "code",
   "execution_count": 3,
   "metadata": {},
   "outputs": [],
   "source": [
    "os.chdir(\"../\")"
   ]
  },
  {
   "cell_type": "code",
   "execution_count": 4,
   "metadata": {},
   "outputs": [
    {
     "data": {
      "text/plain": [
       "'/Users/rohansridhar/Desktop/BIKE-RENTAL'"
      ]
     },
     "execution_count": 4,
     "metadata": {},
     "output_type": "execute_result"
    }
   ],
   "source": [
    "%pwd"
   ]
  },
  {
   "cell_type": "code",
   "execution_count": 5,
   "metadata": {},
   "outputs": [],
   "source": [
    "from dataclasses import dataclass\n",
    "from pathlib import Path \n",
    "@dataclass(frozen=True)\n",
    "class PrepareBaseModelConfig:\n",
    "    root_dir: Path\n",
    "    base_model_path: Path\n",
    "    updated_base_model_path: Path\n",
    "    params_n_estimators: int\n"
   ]
  },
  {
   "cell_type": "code",
   "execution_count": 6,
   "metadata": {},
   "outputs": [],
   "source": [
    "from bikerental.constants import * \n",
    "from bikerental.utils.common import read_yaml, create_directories"
   ]
  },
  {
   "cell_type": "code",
   "execution_count": 7,
   "metadata": {},
   "outputs": [],
   "source": [
    "class ConfigurationManager:\n",
    "    def __init__(self, config_filepath=CONFIG_FILE_PATH, params_filepath=PARAMS_FILE_PATH):\n",
    "        self.config = read_yaml(config_filepath)\n",
    "        self.params = read_yaml(params_filepath)\n",
    "        create_directories([self.config.artifacts_root])\n",
    "\n",
    "    def get_prepare_base_model_config(self) -> PrepareBaseModelConfig:\n",
    "        config = self.config.prepare_base_model\n",
    "        create_directories([config.root_dir])\n",
    "        prepare_base_model_config = PrepareBaseModelConfig(\n",
    "            root_dir=Path(config.root_dir),\n",
    "            base_model_path=Path(config.base_model_path),\n",
    "            updated_base_model_path=Path(config.updated_base_model_path),\n",
    "            params_n_estimators=self.params.n_estimators\n",
    "        )\n",
    "        return prepare_base_model_config"
   ]
  },
  {
   "cell_type": "code",
   "execution_count": 13,
   "metadata": {},
   "outputs": [],
   "source": [
    "import os\n",
    "import urllib.request as request\n",
    "from zipfile import ZipFile\n",
    "import numpy as np\n",
    "import pandas as pd\n",
    "import tensorflow as tf\n",
    "from sklearn.model_selection import train_test_split\n",
    "from sklearn.preprocessing import StandardScaler\n",
    "from sklearn.linear_model import LinearRegression\n",
    "from sklearn.ensemble import RandomForestRegressor\n",
    "from sklearn.metrics import r2_score\n",
    "import pandas as pd\n",
    "from sklearn.ensemble import RandomForestRegressor\n",
    "from sklearn.metrics import r2_score\n",
    "from sklearn.model_selection import train_test_split\n",
    "from sklearn.preprocessing import StandardScaler\n",
    "from pathlib import Path\n",
    "from dataclasses import dataclass\n",
    "import numpy as np\n"
   ]
  },
  {
   "cell_type": "code",
   "execution_count": 14,
   "metadata": {},
   "outputs": [],
   "source": [
    "\n",
    "class PrepareBaseModel:\n",
    "    def __init__(self, config: PrepareBaseModelConfig):\n",
    "        self.config = config\n",
    "        self.model = None\n",
    "        self.regressor = None  # Added regressor attribute\n",
    "\n",
    "    def save_model(self, path, model):\n",
    "        # Save the model using joblib or any other preferred method\n",
    "        pass\n",
    "\n",
    "    def train_random_forest(self, x_train, y_train, x_test, y_test):\n",
    "        self.regressor = RandomForestRegressor(n_estimators=self.config.params_n_estimators)\n",
    "        self.regressor.fit(x_train, y_train)\n",
    "\n",
    "        # Make predictions on the test set\n",
    "        y_pred_test = self.regressor.predict(x_test)\n",
    "\n",
    "        # Calculate R-squared score for the test set\n",
    "        r2_test = r2_score(y_test, y_pred_test)\n",
    "        print(f\"R-squared score on test set: {r2_test:.4f}\")\n",
    "\n",
    "    def update_base_model(self, x_train, y_train):\n",
    "        # Extract individual decision tree\n",
    "        tree_estimator = self.regressor.estimators_[0]\n",
    "\n",
    "        # Make predictions using the decision tree\n",
    "        tree_predictions = tree_estimator.predict(x_train)\n",
    "        tree_predictions = tree_predictions.reshape(-1, 1)\n",
    "\n",
    "        # Use tree predictions as features for the final linear model\n",
    "        self.model = LinearRegression()\n",
    "        self.model.fit(tree_predictions, y_train)\n",
    "\n",
    "        # Print the coefficients if needed\n",
    "        print(\"Coefficients:\", self.model.coef_)\n",
    "\n",
    "    def save_updated_model(self):\n",
    "        # Save the updated model using joblib or any other preferred method\n",
    "        pass\n",
    "\n",
    "\n",
    "# Load and preprocess data\n",
    "day = pd.read_csv(\"artifacts/data_ingestion/day.csv\")\n",
    "day.rename(columns={'instant': 'rec_id', 'dteday': 'datetime', 'yr': 'year', 'mnth': 'month',\n",
    "                    'weathersit': 'weather_condition', 'hum': 'humidity', 'cnt': 'total_count'}, inplace=True)\n",
    "day = day.drop(columns=['rec_id', 'datetime', 'atemp', 'casual', 'registered'])\n",
    "x = day.drop(columns='total_count')\n",
    "y = day['total_count']\n",
    "x_train, x_test, y_train, y_test = train_test_split(x, y, test_size=0.2, random_state=42)\n",
    "sc = StandardScaler()\n",
    "x_train = sc.fit_transform(x_train)\n",
    "x_test = sc.transform(x_test)"
   ]
  },
  {
   "cell_type": "code",
   "execution_count": 15,
   "metadata": {},
   "outputs": [
    {
     "name": "stdout",
     "output_type": "stream",
     "text": [
      "[2024-01-17 14:50:52,339: INFO: common: yaml file: config/config.yaml loaded successfully]\n",
      "[2024-01-17 14:50:52,343: INFO: common: yaml file: params.yaml loaded successfully]\n",
      "[2024-01-17 14:50:52,344: INFO: common: created directory at: artifacts]\n",
      "[2024-01-17 14:50:52,344: INFO: common: created directory at: artifacts/prepare_base_model]\n",
      "R-squared score on test set: 0.8594\n",
      "Coefficients: [0.9389959]\n"
     ]
    }
   ],
   "source": [
    "# Example usage\n",
    "try:\n",
    "    config_manager = ConfigurationManager()\n",
    "    prepare_base_model_config = config_manager.get_prepare_base_model_config()\n",
    "    prepare_base_model = PrepareBaseModel(config=prepare_base_model_config)\n",
    "    prepare_base_model.train_random_forest(x_train, y_train, x_test, y_test)  # Call train_random_forest first\n",
    "    prepare_base_model.update_base_model(x_train, y_train)\n",
    "    prepare_base_model.save_model(path=prepare_base_model_config.updated_base_model_path, model=prepare_base_model)\n",
    "except Exception as e:\n",
    "    raise e\n"
   ]
  }
 ],
 "metadata": {
  "kernelspec": {
   "display_name": "bike",
   "language": "python",
   "name": "python3"
  },
  "language_info": {
   "codemirror_mode": {
    "name": "ipython",
    "version": 3
   },
   "file_extension": ".py",
   "mimetype": "text/x-python",
   "name": "python",
   "nbconvert_exporter": "python",
   "pygments_lexer": "ipython3",
   "version": "3.8.18"
  }
 },
 "nbformat": 4,
 "nbformat_minor": 2
}
